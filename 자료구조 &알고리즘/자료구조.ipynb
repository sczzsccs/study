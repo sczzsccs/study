{
 "cells": [
  {
   "cell_type": "markdown",
   "id": "47e20b11",
   "metadata": {},
   "source": [
    "# 자료구조"
   ]
  },
  {
   "cell_type": "markdown",
   "id": "c419d349",
   "metadata": {},
   "source": [
    "## 단순 연결 리스트\n",
    "### 노드생성"
   ]
  },
  {
   "cell_type": "code",
   "execution_count": 28,
   "id": "3e283ce8",
   "metadata": {},
   "outputs": [],
   "source": [
    "class Node ():\n",
    "    def __init__ (self):\n",
    "        self.data = None\n",
    "        self.link = None\n",
    "    pass"
   ]
  },
  {
   "cell_type": "code",
   "execution_count": 29,
   "id": "f3892a76",
   "metadata": {},
   "outputs": [],
   "source": [
    "node1 = Node()\n",
    "node1.data = \"다현\"\n",
    "\n",
    "node2 = Node()\n",
    "node2.data = \"정연\"\n",
    "node1.link = node2\n",
    "\n",
    "node3 = Node()\n",
    "node3.data = \"쯔위\"\n",
    "node2.link = node3\n",
    "\n",
    "node4= Node()\n",
    "node4.data = \"사나\"\n",
    "node3.link = node4\n",
    "\n",
    "node5 = Node()\n",
    "node5.data = \"지효\"\n",
    "node4.link = node5"
   ]
  },
  {
   "cell_type": "code",
   "execution_count": 30,
   "id": "27fe1ef4",
   "metadata": {},
   "outputs": [
    {
     "name": "stdout",
     "output_type": "stream",
     "text": [
      "다현 정연 쯔위 사나 지효 "
     ]
    }
   ],
   "source": [
    "print(node1.data , end = \" \")\n",
    "print(node1.link.data , end = \" \")\n",
    "print(node1.link.link.data , end = \" \")\n",
    "print(node1.link.link.link.data , end = \" \")\n",
    "print(node1.link.link.link.link.data , end = \" \")"
   ]
  },
  {
   "cell_type": "code",
   "execution_count": null,
   "id": "6d520c89",
   "metadata": {
    "scrolled": true
   },
   "outputs": [
    {
     "data": {
      "application/javascript": "IPython.notebook.set_autosave_interval(10000)"
     },
     "metadata": {},
     "output_type": "display_data"
    },
    {
     "name": "stdout",
     "output_type": "stream",
     "text": [
      "Autosaving every 10 seconds\n"
     ]
    }
   ],
   "source": [
    "%autosave 10"
   ]
  },
  {
   "cell_type": "markdown",
   "id": "b711b736",
   "metadata": {},
   "source": [
    "# 단순 연결리스트 일반구현\n",
    "## 클래스와 함수선언"
   ]
  },
  {
   "cell_type": "code",
   "execution_count": 1,
   "id": "00f5919e",
   "metadata": {},
   "outputs": [],
   "source": [
    "class Node():\n",
    "    def __init__(self):\n",
    "        self.data = None\n",
    "        self.link = None\n",
    "    pass\n",
    "\n",
    "def print_Nodes(start):\n",
    "    current = start\n",
    "    if current != None:\n",
    "        print(current.data, end=\" \")\n",
    "        while current.link != None:\n",
    "            current = current.link\n",
    "            print(current.data, end=\" \")\n",
    "        print()"
   ]
  },
  {
   "cell_type": "markdown",
   "id": "1c26fbe5",
   "metadata": {},
   "source": [
    "   ## 전역변수 선언"
   ]
  },
  {
   "cell_type": "code",
   "execution_count": 2,
   "id": "caa2a348",
   "metadata": {},
   "outputs": [],
   "source": [
    "memory =[]\n",
    "head, current, pre = None, None, None\n",
    "Array = [\"다현\", \"정연\", \"쯔위\", \"사나\", \"지효\"]"
   ]
  },
  {
   "cell_type": "code",
   "execution_count": 3,
   "id": "03c40dbe",
   "metadata": {},
   "outputs": [
    {
     "name": "stdout",
     "output_type": "stream",
     "text": [
      "다현 정연 쯔위 사나 지효 \n"
     ]
    }
   ],
   "source": [
    "node = Node()\n",
    "node.data = Array[0]\n",
    "head = node\n",
    "memory.append(node)\n",
    "\n",
    "for data in Array[1:]:\n",
    "    pre = node\n",
    "    node = Node()\n",
    "    node.data = data\n",
    "    pre.link = node\n",
    "    memory.append(node)\n",
    "    \n",
    "print_Nodes(head)"
   ]
  },
  {
   "cell_type": "markdown",
   "id": "8103957c",
   "metadata": {},
   "source": [
    "### 첫 번째 노드 삽입\n",
    "- 헤드 노드를 새 노드로 지정"
   ]
  },
  {
   "cell_type": "code",
   "execution_count": 4,
   "id": "e11c0714",
   "metadata": {},
   "outputs": [
    {
     "name": "stdout",
     "output_type": "stream",
     "text": [
      "화사 다현 정연 쯔위 사나 지효 \n"
     ]
    }
   ],
   "source": [
    "node = Node()\n",
    "node.data =\"화사\"\n",
    "node.link = head\n",
    "head = node\n",
    "print_Nodes(head)"
   ]
  },
  {
   "cell_type": "markdown",
   "id": "e0b21387",
   "metadata": {},
   "source": [
    "### 중간 노드 삽입"
   ]
  },
  {
   "cell_type": "code",
   "execution_count": 5,
   "id": "e6169da3",
   "metadata": {
    "scrolled": true
   },
   "outputs": [
    {
     "name": "stdout",
     "output_type": "stream",
     "text": [
      "화사 다현 정연 쯔위 솔라 사나 지효 \n"
     ]
    }
   ],
   "source": [
    "current = head\n",
    "while current.link != None:\n",
    "    pre = current\n",
    "    current = current.link\n",
    "    if current.data == \"사나\":\n",
    "        node = Node()\n",
    "        node.data = \"솔라\"\n",
    "        node.link = current\n",
    "        pre.link = node\n",
    "        \n",
    "print_Nodes(head)"
   ]
  },
  {
   "cell_type": "markdown",
   "id": "27682600",
   "metadata": {},
   "source": [
    "### 마지막 노드까지 찾지 못할 경우"
   ]
  },
  {
   "cell_type": "code",
   "execution_count": 6,
   "id": "77a63d93",
   "metadata": {},
   "outputs": [
    {
     "name": "stdout",
     "output_type": "stream",
     "text": [
      "화사 다현 정연 쯔위 솔라 사나 지효 문별 \n"
     ]
    }
   ],
   "source": [
    "node = Node()\n",
    "node.data = \"문별\"\n",
    "current.link = node\n",
    "\n",
    "print_Nodes(head)"
   ]
  },
  {
   "cell_type": "markdown",
   "id": "750dacb6",
   "metadata": {},
   "source": [
    "## 노드 삽입함수 완성"
   ]
  },
  {
   "cell_type": "code",
   "execution_count": 7,
   "id": "d1d99413",
   "metadata": {},
   "outputs": [],
   "source": [
    "# 삽입할 위치(find), 삽입할 데이터(data)\n",
    "def insert_Node(find, data):\n",
    "    global head, current, pre\n",
    "    \n",
    "    # 첫 번째 노드인 경우\n",
    "    current = head #처음부터 탐색을 위해 현재노드가 head를 가리키게 함\n",
    "    if current.data == find: #처음노드의 데이터가 찾는데이터인지 확인\n",
    "        node = Node() #찾는데이터노드(위치)인 경우 데이터 삽입을 위한 노드 생성\n",
    "        node.data = data #노드에 데이터 생성\n",
    "        node.link = head #노드링크가 첫 번째(head)가 되기 위해 노드링크가 처음 노드(head)를 가리키게(처음 노드는 head만 가리켜야 함)\n",
    "        head = node #처음노드(head)에 생성한 노드를 가리키게 함으로 써 새롭게 처음노드가 만들어진다.\n",
    "        \n",
    "    # 중간 삽입인 경우\n",
    "    current = head #처음부터 탐색을 위해 현재노드가 head를 가리키게 함\n",
    "    while current.link != None: #현재노드 다음의 데이터노드가 존재하는지 확인\n",
    "        pre = current #다음 노드탐색을 위해 현재노드를 이전노드가 가리키게함\n",
    "        current = current.link #현재의 다음을 현재노드가 가리킴으로 써 계속 탐색을 이어나감\n",
    "        if current.data == find: #현재노드의 데이터가 찾는 데이터인지 확인\n",
    "            node = Node() #찾는 데이터(위치)가 맞는경우 데이터 삽입을 위한 노드생성 \n",
    "            node.data = data #데이터생성\n",
    "            node.link = current #찾는 데이터(위치)앞에 삽입되도록 생성한 노드 다음에 찾는 데이터(위치)가 연결되게 함\n",
    "            pre.link = node #이전노드가 가리키게함으로 써 데이터 노드가 이어지게 됨\n",
    "            return\n",
    "    \n",
    "    # 찾는 위치가 없는 경우\n",
    "    node = Node() #모든 탐색을 마쳤으므로 새로운 데이터삽입을 위한 노드생성\n",
    "    node.data = data #데이터생성\n",
    "    current.link = node #마지막노드 다음에 새로운데이터가 연결되도록 함\n",
    "    return"
   ]
  },
  {
   "cell_type": "code",
   "execution_count": 8,
   "id": "4bcacabf",
   "metadata": {
    "scrolled": true
   },
   "outputs": [
    {
     "name": "stdout",
     "output_type": "stream",
     "text": [
      "다현 다현 화사 다현 정연 쯔위 솔라 사나 지효 문별 \n"
     ]
    }
   ],
   "source": [
    "insert_Node(\"화사\", \"다현\")\n",
    "print_Nodes(head)"
   ]
  },
  {
   "cell_type": "markdown",
   "id": "3002cd82",
   "metadata": {},
   "source": [
    "## 노드 삽입함수 변형"
   ]
  },
  {
   "cell_type": "code",
   "execution_count": 11,
   "id": "08cdbd0a",
   "metadata": {},
   "outputs": [],
   "source": [
    "# 삽입할 위치(find), 삽입할 데이터(data)\n",
    "def insert_Node2(find, data):\n",
    "    global head, current, pre\n",
    "    current = head #head.link가 없을 때 방지\n",
    "    node = Node() #찾는데이터노드(위치)인 경우 데이터 삽입을 위한 노드 생성\n",
    "    node.data = data #노드에 데이터 생성\n",
    "\n",
    "    if current.data == find: #첪 번째 데이터가 찾는데이터인지 확인\n",
    "        node.link = head #노드링크가 첫 번째(head)가 되기 위해 노드링크가 처음 노드(head)를 가리키게(처음 노드는 head만 가리켜야 함)\n",
    "        head = node #처음노드(head)에 생성한 노드를 가리키게 함으로 써 새롭게 처음노드가 만들어진다.\n",
    "    else: # 처음이후 삽입인 경우\n",
    "        pre = current #pre의 값이 없을 때 방지\n",
    "        while current.data != find: #현재데이터와 찾는데이터(위치) 같은지 확인\n",
    "            pre = current #다음 노드탐색을 위해 현재노드를 이전노드가 가리키게함\n",
    "            if current.link == None: #현재노드 다음의 데이터노드가 존재하는지 확인\n",
    "                current = None #다음노드가 없을 시 노드가 이어지지않게\n",
    "                break #다음노드가 없으므로 반복문 벗어나기\n",
    "            current = current.link #현재의 다음을 현재노드가 가리킴으로 써 계속 탐색을 이어나감\n",
    "        node.link = current #다음노드가 있으면 현재노드가 가리킴으로 써 이어짐, 없으면 None\n",
    "        pre.link = node #이전노드가 가리키게함으로 써 데이터 노드가 이어지게 됨"
   ]
  },
  {
   "cell_type": "code",
   "execution_count": 12,
   "id": "31a51db5",
   "metadata": {},
   "outputs": [
    {
     "name": "stdout",
     "output_type": "stream",
     "text": [
      "다현 다현 화사 다현 정연 쯔위 솔라 사나 지효 쯔위 문별 \n"
     ]
    }
   ],
   "source": [
    "insert_Node2(\"문별\", \"쯔위\")\n",
    "print_Nodes(head)"
   ]
  },
  {
   "cell_type": "markdown",
   "id": "568b030f",
   "metadata": {},
   "source": [
    "## 노드 삽입함수 변형"
   ]
  },
  {
   "cell_type": "code",
   "execution_count": 18,
   "id": "7b5d4231",
   "metadata": {},
   "outputs": [],
   "source": [
    "# 삽입할 위치(find), 삽입할 데이터(data)\n",
    "def insert_Node3(find, data):\n",
    "    global head\n",
    "    current = head #처음부터 탐색을 위해 현재노드가 head를 가리키게 함\n",
    "    node = Node() #찾는데이터노드(위치)인 경우 데이터 삽입을 위한 노드 생성\n",
    "    node.data = data #노드에 데이터 생성\n",
    "    \n",
    "    if current.data == find: #처음노드의 데이터가 찾는데이터인지 확인\n",
    "        node.link = head #노드링크가 첫 번째(head)가 되기 위해 노드링크가 처음 노드(head)를 가리키게(처음 노드는 head만 가리켜야 함)\n",
    "        head = node #처음노드(head)에 생성한 노드를 가리키게 함으로 써 새롭게 처음노드가 만들어진다.\n",
    "    elif current.link != None:# 처음이후 삽입인 경우\n",
    "        pre = current #pre값 None 방지\n",
    "        while current.link != None: #현재노드 다음의 데이터노드가 존재하는지 확인\n",
    "            pre = current #다음 노드탐색을 위해 현재노드를 이전노드가 가리키게함\n",
    "            current = current.link #현재의 다음을 현재노드가 가리킴으로 써 계속 탐색을 이어나감\n",
    "            if current.link == None:# 찾는 위치가 없는 경우\n",
    "                break\n",
    "            elif current.data == find: #현재노드의 데이터가 찾는 데이터인지 확인\n",
    "                node.link = current #찾는 데이터(위치)앞에 삽입되도록 생성한 노드 다음에 찾는 데이터(위치)가 연결되게 함\n",
    "                break\n",
    "        pre.link = node #마지막노드 다음에 새로운데이터가 연결되도록 함\n",
    "    return"
   ]
  },
  {
   "cell_type": "code",
   "execution_count": 39,
   "id": "cbfc7a14",
   "metadata": {
    "scrolled": true
   },
   "outputs": [
    {
     "name": "stdout",
     "output_type": "stream",
     "text": [
      "하나 둘 셋 넷 \n"
     ]
    }
   ],
   "source": [
    "insert_Node2(\"다섯\", \"넷\")\n",
    "print_Nodes(head)"
   ]
  },
  {
   "cell_type": "code",
   "execution_count": null,
   "id": "364ec71f",
   "metadata": {},
   "outputs": [],
   "source": []
  },
  {
   "cell_type": "markdown",
   "id": "f675fe7c",
   "metadata": {},
   "source": [
    "### 첫 번째 노드삭제"
   ]
  },
  {
   "cell_type": "code",
   "execution_count": 38,
   "id": "6c5df1be",
   "metadata": {},
   "outputs": [
    {
     "name": "stdout",
     "output_type": "stream",
     "text": [
      "하나 둘 셋 \n"
     ]
    }
   ],
   "source": [
    "current = head\n",
    "head = head.link\n",
    "del(current)\n",
    "print_Nodes(head)"
   ]
  },
  {
   "cell_type": "markdown",
   "id": "016ff212",
   "metadata": {},
   "source": [
    "### 노드 삭제 함수"
   ]
  },
  {
   "cell_type": "code",
   "execution_count": null,
   "id": "0ba7454b",
   "metadata": {},
   "outputs": [],
   "source": [
    "# 삽입할 위치(find), 삽입할 데이터(data)\n",
    "def delete_Node(data):\n",
    "    global head, current, pre\n",
    "    if head.data == data: #처음데이터가 찾는데이터(위치)가 맞는지 확인\n",
    "        current = head #맞는 경우 데이터 삭제를 위해 head가 가리키는 노들를 욺기기위해 임시저장\n",
    "        head = head.link #head가 head다음 노드를 가리킴으로 써 (2 번째 노드가 처음노드가 됨)\n",
    "        del(current) #데이터 노드 삭제\n",
    "        return\n",
    "        \n",
    "    current = head #찾는데이터(위치)가 노드 중간\n",
    "    while current.link != None: #현재노드 다음 노드가 존재하는지 확인\n",
    "        pre = current #존재할 경우 다음탐색을 위해 이전노드의 현재노드를 가리킴\n",
    "        current = current.link #다음노드를 현재노드가 가리킴으로 써 계속탐색을 이어감\n",
    "        if current.data == data: #현재데이터가 찾는데이터(위치)인지 확인\n",
    "            pre.link = current.link #맞는경우 노드삭제를 위해 이전노드와 다음노드를 이음으로서 현재노드를 제외시킴\n",
    "            del(current) #노드삭제\n",
    "            return"
   ]
  },
  {
   "cell_type": "code",
   "execution_count": null,
   "id": "6a1db1a3",
   "metadata": {},
   "outputs": [],
   "source": [
    "delete_Node(\"화사\")\n",
    "print_Nodes(head)"
   ]
  },
  {
   "cell_type": "code",
   "execution_count": null,
   "id": "c4cbff3f",
   "metadata": {},
   "outputs": [],
   "source": []
  },
  {
   "cell_type": "code",
   "execution_count": null,
   "id": "ded0497e",
   "metadata": {},
   "outputs": [],
   "source": []
  },
  {
   "cell_type": "code",
   "execution_count": null,
   "id": "b16898db",
   "metadata": {},
   "outputs": [],
   "source": []
  },
  {
   "cell_type": "code",
   "execution_count": null,
   "id": "e1a0f5cf",
   "metadata": {},
   "outputs": [],
   "source": []
  },
  {
   "cell_type": "code",
   "execution_count": null,
   "id": "f66c4a66",
   "metadata": {},
   "outputs": [],
   "source": []
  },
  {
   "cell_type": "code",
   "execution_count": null,
   "id": "76484bba",
   "metadata": {},
   "outputs": [],
   "source": []
  },
  {
   "cell_type": "code",
   "execution_count": null,
   "id": "f98a93c2",
   "metadata": {},
   "outputs": [],
   "source": []
  },
  {
   "cell_type": "code",
   "execution_count": null,
   "id": "e6997a62",
   "metadata": {},
   "outputs": [],
   "source": []
  }
 ],
 "metadata": {
  "kernelspec": {
   "display_name": "Python 3 (ipykernel)",
   "language": "python",
   "name": "python3"
  },
  "language_info": {
   "codemirror_mode": {
    "name": "ipython",
    "version": 3
   },
   "file_extension": ".py",
   "mimetype": "text/x-python",
   "name": "python",
   "nbconvert_exporter": "python",
   "pygments_lexer": "ipython3",
   "version": "3.9.18"
  }
 },
 "nbformat": 4,
 "nbformat_minor": 5
}
