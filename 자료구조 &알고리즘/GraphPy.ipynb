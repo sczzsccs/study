{
 "cells": [
  {
   "cell_type": "code",
   "execution_count": 31,
   "metadata": {},
   "outputs": [],
   "source": [
    "import numpy as np\n",
    "import os\n",
    "\n",
    "import pandas as pd\n",
    "import matplotlib.pyplot as plt\n",
    "import graphviz\n",
    "import seaborn as sb"
   ]
  },
  {
   "cell_type": "code",
   "execution_count": 27,
   "metadata": {},
   "outputs": [],
   "source": [
    "dot_graph = \"\"\"\n",
    "graph graphname {\n",
    "    rankdir=LR;\n",
    "     A - B; \n",
    "     A -- C;\n",
    "     A -- D -- C;\n",
    "}\"\"\""
   ]
  },
  {
   "cell_type": "code",
   "execution_count": 43,
   "metadata": {},
   "outputs": [],
   "source": [
    "dot_graph = \"\"\"\n",
    "digraph graphname {\n",
    "    rankdir=LR;\n",
    "    A -> B; \n",
    "    A -> C;\n",
    "    D -> C;\n",
    "    D -> A;\n",
    "}\"\"\""
   ]
  },
  {
   "cell_type": "code",
   "execution_count": 28,
   "metadata": {},
   "outputs": [
    {
     "data": {
      "text/plain": [
       "'graph_images\\\\graph.jpg'"
      ]
     },
     "execution_count": 28,
     "metadata": {},
     "output_type": "execute_result"
    }
   ],
   "source": [
    "g = graphviz.Source(dot_graph)\n",
    "g.format='jpg'\n",
    "g.filename = \"graph\"\n",
    "g.directory = './graph_images/'\n",
    "g.render(view=False)"
   ]
  },
  {
   "cell_type": "markdown",
   "metadata": {},
   "source": [
    "## G1 무방향 그래프"
   ]
  },
  {
   "cell_type": "code",
   "execution_count": 50,
   "metadata": {},
   "outputs": [
    {
     "name": "stdout",
     "output_type": "stream",
     "text": [
      "## G1 무방향 그래프 ##\n"
     ]
    },
    {
     "data": {
      "text/plain": [
       "<Axes: >"
      ]
     },
     "execution_count": 50,
     "metadata": {},
     "output_type": "execute_result"
    },
    {
     "data": {
      "image/png": "[encoded data removed]",
      "text/plain": [
       "<Figure size 640x480 with 2 Axes>"
      ]
     },
     "metadata": {},
     "output_type": "display_data"
    }
   ],
   "source": [
    "Grahp = {\n",
    "    ##     g1 g2 g3 g4\n",
    "    \"g1\" : [0, 1, 1, 1],\n",
    "    \"g2\" : [1, 0, 0, 1],\n",
    "    \"g3\" : [1, 1, 0, 1],\n",
    "    \"g4\" : [1, 0, 1, 0]\n",
    "}\n",
    "print(\"## G1 무방향 그래프 ##\")\n",
    "sb.heatmap(pd.DataFrame(Grahp), cmap='Greys', annot=True)"
   ]
  },
  {
   "cell_type": "code",
   "execution_count": 53,
   "metadata": {},
   "outputs": [
    {
     "data": {
      "text/plain": [
       "'graph_images\\\\G1.jpg'"
      ]
     },
     "execution_count": 53,
     "metadata": {},
     "output_type": "execute_result"
    }
   ],
   "source": [
    "dot_graph = \"\"\"\n",
    "graph G1 {\n",
    "    rankdir=LR;\n",
    "    g1 -- g2;\n",
    "    g1 -- g3;\n",
    "    g1 -- g4;\n",
    "    \n",
    "    g2 -- g1;\n",
    "    g2 -- g4;\n",
    "    \n",
    "    g3 -- g1;\n",
    "    g3 -- g2;\n",
    "    g3 -- g4;\n",
    "    \n",
    "    g4 -- g1;\n",
    "    g4 -- g3;\n",
    "    \n",
    "}\"\"\"\n",
    "\n",
    "g = graphviz.Source(dot_graph)\n",
    "g.format='jpg'\n",
    "g.filename = \"G1\"\n",
    "g.directory = './graph_images/'\n",
    "g.render(view=False)"
   ]
  },
  {
   "cell_type": "markdown",
   "metadata": {},
   "source": [
    "## G3 무방향 그래프"
   ]
  },
  {
   "cell_type": "code",
   "execution_count": 51,
   "metadata": {},
   "outputs": [
    {
     "name": "stdout",
     "output_type": "stream",
     "text": [
      "## G3 무방향 그래프 ##\n"
     ]
    },
    {
     "data": {
      "text/plain": [
       "<Axes: >"
      ]
     },
     "execution_count": 51,
     "metadata": {},
     "output_type": "execute_result"
    },
    {
     "data": {
      "image/png": "[encoded data removed]",
      "text/plain": [
       "<Figure size 640x480 with 2 Axes>"
      ]
     },
     "metadata": {},
     "output_type": "display_data"
    }
   ],
   "source": [
    "Grahp = {\n",
    "    ##     g1 g2 g3 g4\n",
    "    \"g1\" : [0, 1, 1, 0],\n",
    "    \"g2\" : [0, 0, 0, 0],\n",
    "    \"g3\" : [0, 0, 0, 0],\n",
    "    \"g4\" : [1, 0, 1, 0]\n",
    "}\n",
    "print(\"## G3 무방향 그래프 ##\")\n",
    "sb.heatmap(pd.DataFrame(Grahp), cmap='Greys', annot=True)"
   ]
  },
  {
   "cell_type": "code",
   "execution_count": 49,
   "metadata": {},
   "outputs": [
    {
     "data": {
      "text/plain": [
       "'graph_images\\\\G3.jpg'"
      ]
     },
     "execution_count": 49,
     "metadata": {},
     "output_type": "execute_result"
    }
   ],
   "source": [
    "dot_graph = \"\"\"\n",
    "digraph G3 {\n",
    "    rankdir=LR;\n",
    "    g1 -> g2;\n",
    "    g1 -> g3;\n",
    "    \n",
    "    g4 -> g1;\n",
    "    g4 -> g3;\n",
    "    \n",
    "}\"\"\"\n",
    "\n",
    "g = graphviz.Source(dot_graph)\n",
    "g.format='jpg'\n",
    "g.filename = \"G3\"\n",
    "g.directory = './graph_images/'\n",
    "g.render(view=False)"
   ]
  },
  {
   "cell_type": "markdown",
   "metadata": {},
   "source": [
    "# 지역"
   ]
  },
  {
   "cell_type": "code",
   "execution_count": 57,
   "metadata": {},
   "outputs": [],
   "source": [
    "# 그래프에서 한글 폰트 깨지는 문제에 대한 대처(전역 글꼴 설정)\n",
    "from matplotlib import font_manager, rc\n",
    "font_name = font_manager.FontProperties(fname='c:/Windows/Fonts/malgun.ttf').get_name()\n",
    "rc('font', family=font_name)"
   ]
  },
  {
   "cell_type": "code",
   "execution_count": 58,
   "metadata": {},
   "outputs": [
    {
     "data": {
      "text/plain": [
       "'graph_images\\\\Area.jpg'"
      ]
     },
     "execution_count": 58,
     "metadata": {},
     "output_type": "execute_result"
    }
   ],
   "source": [
    "Area = \"\"\"\n",
    "graph Area {\n",
    "    rankdir=LR;\n",
    "    Moon -- Sola;\n",
    "    Moon -- Hewn;\n",
    "    \n",
    "    Hewn -- Moon;\n",
    "    \n",
    "    Zwi -- Sola;\n",
    "    Zwi -- Hewn;\n",
    "}\"\"\"\n",
    "\n",
    "g = graphviz.Source(Area)\n",
    "g.format='jpg'\n",
    "g.filename = \"Area\"\n",
    "g.directory = './graph_images/'\n",
    "g.render(view=False)"
   ]
  },
  {
   "cell_type": "code",
   "execution_count": null,
   "metadata": {},
   "outputs": [],
   "source": [
    "Area_Grahp = {\n",
    "    ##     g1 g2 g3 g4\n",
    "    \"g1\" : [0, 1, 1, 0],\n",
    "    \"g2\" : [0, 0, 0, 0],\n",
    "    \"g3\" : [0, 0, 0, 0],\n",
    "    \"g4\" : [1, 0, 1, 0]\n",
    "}\n",
    "print(\"## G3 무방향 그래프 ##\")\n",
    "sb.heatmap(pd.DataFrame(Area_Grahp), cmap='Greys', annot=True)"
   ]
  },
  {
   "cell_type": "code",
   "execution_count": null,
   "metadata": {},
   "outputs": [],
   "source": []
  },
  {
   "cell_type": "markdown",
   "metadata": {},
   "source": [
    "##### 방문(깊이 우선 탐색구현)"
   ]
  },
  {
   "cell_type": "code",
   "execution_count": 203,
   "metadata": {},
   "outputs": [],
   "source": [
    "Grahp = [\n",
    "    #A  B  C   D\n",
    "    [0, 0, 1 , 1], #A\n",
    "    [0, 0, 1 , 0], #B\n",
    "    [1, 1, 0 , 1], #C\n",
    "    [1, 0, 1 , 0]  #D\n",
    "]\n",
    "\n",
    "stack = []\n",
    "visitedList = []"
   ]
  },
  {
   "cell_type": "code",
   "execution_count": 204,
   "metadata": {},
   "outputs": [],
   "source": [
    "stack.append(0)\n",
    "visitedList.append(0)"
   ]
  },
  {
   "cell_type": "code",
   "execution_count": 193,
   "metadata": {},
   "outputs": [
    {
     "name": "stdout",
     "output_type": "stream",
     "text": [
      "## 무방향 그래프 탐색 ##\n"
     ]
    },
    {
     "data": {
      "text/plain": [
       "[0, 2]"
      ]
     },
     "execution_count": 193,
     "metadata": {},
     "output_type": "execute_result"
    }
   ],
   "source": [
    "print(\"## 무방향 그래프 탐색 ##\")\n",
    "\n",
    "next_pos = None\n",
    "for pos in range(4):\n",
    "    if(Grahp[0][pos] == 1):\n",
    "        next_pos = pos\n",
    "        stack.append(pos)\n",
    "        visitedList.append(pos)\n",
    "        break\n",
    "\n",
    "stack"
   ]
  },
  {
   "cell_type": "code",
   "execution_count": 194,
   "metadata": {},
   "outputs": [
    {
     "name": "stdout",
     "output_type": "stream",
     "text": [
      "## 무방향 그래프 탐색 ##\n"
     ]
    },
    {
     "data": {
      "text/plain": [
       "[0, 2, 1]"
      ]
     },
     "execution_count": 194,
     "metadata": {},
     "output_type": "execute_result"
    }
   ],
   "source": [
    "print(\"## 무방향 그래프 탐색 ##\")\n",
    "\n",
    "next_pos = None\n",
    "for pos in range(4):\n",
    "    if(Grahp[stack[1]][pos] == 1):\n",
    "        if(pos in visitedList):\n",
    "            continue\n",
    "        next_pos = pos\n",
    "        stack.append(pos)\n",
    "        visitedList.append(pos)\n",
    "        break\n",
    "\n",
    "stack"
   ]
  },
  {
   "cell_type": "code",
   "execution_count": 195,
   "metadata": {},
   "outputs": [
    {
     "name": "stdout",
     "output_type": "stream",
     "text": [
      "## 무방향 그래프 탐색 ##\n",
      "1\n"
     ]
    },
    {
     "data": {
      "text/plain": [
       "[0, 2]"
      ]
     },
     "execution_count": 195,
     "metadata": {},
     "output_type": "execute_result"
    }
   ],
   "source": [
    "print(\"## 무방향 그래프 탐색 ##\")\n",
    "\n",
    "next_pos = None\n",
    "for pos in range(4):\n",
    "    if(Grahp[stack[2]][pos] == 1):\n",
    "        if(pos in visitedList):\n",
    "            continue\n",
    "        next_pos = pos\n",
    "        stack.append(pos)\n",
    "        visitedList.append(pos)\n",
    "        break\n",
    "\n",
    "if(next_pos == None):\n",
    "    next_pos = stack.pop()\n",
    "print(next_pos)\n",
    "stack"
   ]
  },
  {
   "cell_type": "code",
   "execution_count": 196,
   "metadata": {},
   "outputs": [
    {
     "name": "stdout",
     "output_type": "stream",
     "text": [
      "## 무방향 그래프 탐색 ##\n",
      "3\n"
     ]
    },
    {
     "data": {
      "text/plain": [
       "[0, 2, 3]"
      ]
     },
     "execution_count": 196,
     "metadata": {},
     "output_type": "execute_result"
    }
   ],
   "source": [
    "print(\"## 무방향 그래프 탐색 ##\")\n",
    "\n",
    "next_pos = None\n",
    "for pos in range(4):\n",
    "    if(Grahp[stack[-1]][pos] == 1):\n",
    "        if(pos in visitedList):\n",
    "            continue\n",
    "        next_pos = pos\n",
    "        stack.append(pos)\n",
    "        visitedList.append(pos)\n",
    "        break\n",
    "\n",
    "if(next_pos == None):\n",
    "    next_pos = stack.pop()\n",
    "print(next_pos)\n",
    "stack"
   ]
  },
  {
   "cell_type": "code",
   "execution_count": 197,
   "metadata": {},
   "outputs": [
    {
     "data": {
      "text/plain": [
       "[0, 2, 1, 3]"
      ]
     },
     "execution_count": 197,
     "metadata": {},
     "output_type": "execute_result"
    }
   ],
   "source": [
    "visitedList"
   ]
  },
  {
   "cell_type": "code",
   "execution_count": 251,
   "metadata": {},
   "outputs": [
    {
     "name": "stdout",
     "output_type": "stream",
     "text": [
      "## 무방향 그래프 탐색 ##\n",
      "[0, 0, 1, 1]\n",
      "[0, 0, 1, 0]\n",
      "[1, 1, 0, 1]\n",
      "[1, 0, 1, 0]\n",
      "\n",
      "\n",
      "current_pos : 2\n",
      " stack : [0, 2]\n",
      "current_pos : 1\n",
      " stack : [0, 2, 1]\n",
      "current_pos : 1\n",
      " stack : [0, 2]\n",
      "current_pos : 3\n",
      " stack : [0, 2, 3]\n",
      "current_pos : 3\n",
      " stack : [0, 2]\n",
      "current_pos : 2\n",
      " stack : [0]\n",
      "current_pos : 0\n",
      " stack : []\n",
      "\n",
      "###########################\n",
      "\n",
      "방문순서: [0, 2, 1, 3]\n"
     ]
    },
    {
     "data": {
      "image/png": "[encoded data removed]",
      "text/plain": [
       "<Figure size 640x480 with 2 Axes>"
      ]
     },
     "metadata": {},
     "output_type": "display_data"
    }
   ],
   "source": [
    "print(\"## 무방향 그래프 탐색 ##\")\n",
    "\n",
    "Grahp = [\n",
    "    #A  B  C   D\n",
    "    [0, 0, 1 , 1], #A\n",
    "    [0, 0, 1 , 0], #B\n",
    "    [1, 1, 0 , 1], #C\n",
    "    [1, 0, 1 , 0]  #D\n",
    "]\n",
    "\n",
    "for list in Grahp:\n",
    "    print(list)\n",
    "\n",
    "print()\n",
    "sb.heatmap(pd.DataFrame(Grahp), cmap=\"Blues\", annot=True)\n",
    "print()\n",
    "\n",
    "stack = []\n",
    "visitedList = []\n",
    "stack.append(0)\n",
    "visitedList.append(0)\n",
    "\n",
    "while(stack):\n",
    "    next_pos = None\n",
    "    for pos in range(4):\n",
    "        if(Grahp[stack[-1]][pos] == 1):\n",
    "            if(pos in visitedList):\n",
    "                continue\n",
    "            next_pos = pos\n",
    "            stack.append(pos)\n",
    "            visitedList.append(pos)\n",
    "            break\n",
    "\n",
    "    if(next_pos == None):\n",
    "        next_pos = stack.pop()\n",
    "        \n",
    "    print(f\"current_pos : {next_pos}\\n stack : {stack}\")\n",
    "\n",
    "print(\"\\n###########################\")\n",
    "print(f\"\\n방문순서: {visitedList}\")"
   ]
  },
  {
   "cell_type": "code",
   "execution_count": null,
   "metadata": {},
   "outputs": [],
   "source": []
  },
  {
   "cell_type": "code",
   "execution_count": 9,
   "metadata": {},
   "outputs": [],
   "source": [
    "def printGraph(Grahp:list, gSize:int):\n",
    "    \"\"\"existGraph\n",
    "    ------\n",
    "    \n",
    "        Param:\n",
    "            Grahp (list): List Class\n",
    "            gSize (int): List Size\n",
    "    \"\"\"\n",
    "    \n",
    "    stack = []\n",
    "    visitedList = []\n",
    "    \n",
    "    # ADD Start\n",
    "    stack.append(0)\n",
    "    visitedList.append(0)\n",
    "\n",
    "    while(stack):\n",
    "        current_pos = None # Reset Positions\n",
    "        for pos in range(gSize):\n",
    "            if(Grahp[stack[-1]][pos] == 1):\n",
    "                if(pos not in visitedList): # itme 중복 check\n",
    "                    current_pos = pos\n",
    "                    stack.append(pos)\n",
    "                    visitedList.append(pos)\n",
    "\n",
    "        if(current_pos == None):\n",
    "            current_pos = stack.pop()\n",
    "            \n",
    "        print(\"\\n###########################\")\n",
    "        print(f\"current_pos : {current_pos}\\n stack : {stack}\")\n",
    "        \n",
    "    print(f\"\\n방문순서: {visitedList}\")\n",
    "    pass"
   ]
  },
  {
   "cell_type": "code",
   "execution_count": 11,
   "metadata": {},
   "outputs": [
    {
     "name": "stdout",
     "output_type": "stream",
     "text": [
      "## 무방향 그래프 탐색 ##\n",
      "\n",
      "###########################\n",
      "current_pos : 3\n",
      " stack : [0, 2, 3]\n",
      "\n",
      "###########################\n",
      "current_pos : 3\n",
      " stack : [0, 2]\n",
      "\n",
      "###########################\n",
      "current_pos : 1\n",
      " stack : [0, 2, 1]\n",
      "\n",
      "###########################\n",
      "current_pos : 1\n",
      " stack : [0, 2]\n",
      "\n",
      "###########################\n",
      "current_pos : 2\n",
      " stack : [0]\n",
      "\n",
      "###########################\n",
      "current_pos : 0\n",
      " stack : []\n",
      "\n",
      "방문순서: [0, 2, 3, 1]\n"
     ]
    }
   ],
   "source": [
    "print(\"## 무방향 그래프 탐색 ##\")\n",
    "\n",
    "Grahp = [\n",
    "    #A  B  C   D\n",
    "    [0, 0, 1 , 1], #A\n",
    "    [0, 0, 1 , 0], #B\n",
    "    [1, 1, 0 , 1], #C\n",
    "    [1, 0, 1 , 0]  #D\n",
    "]\n",
    "\n",
    "printGraph(Grahp=Grahp, gSize=len(Grahp))"
   ]
  },
  {
   "cell_type": "code",
   "execution_count": 20,
   "metadata": {},
   "outputs": [],
   "source": [
    "def existGraph(Grahp:list, exist:int)->bool:\n",
    "    \"\"\"existGraph\n",
    "    ------\n",
    "    \n",
    "        Param:\n",
    "            Grahp (list): List Class\n",
    "            exist (int): find exist\n",
    "    \"\"\"\n",
    "    \n",
    "    stack = []\n",
    "    visitedList = []\n",
    "    gSize = len(Grahp)\n",
    "    \n",
    "    # ADD Start\n",
    "    stack.append(0)\n",
    "    visitedList.append(0)\n",
    "\n",
    "    while(stack):\n",
    "        next_pos = None # Reset Positions\n",
    "        for pos in range(gSize):\n",
    "            if(Grahp[stack[-1]][pos] == 1):\n",
    "                if(pos not in visitedList): # itme duplication check\n",
    "                    next_pos = pos\n",
    "                    stack.append(pos)\n",
    "                    visitedList.append(pos)\n",
    "\n",
    "        if(next_pos == None):\n",
    "            next_pos = stack.pop() # Undo\n",
    "            \n",
    "        print(\"\\n###########################\")\n",
    "        print(f\"current_pos : {next_pos}\\n stack : {stack}\")\n",
    "    \n",
    "    # print(f\"\\nfind exist : {exist}\")\n",
    "    # print(f\"방문순서: {visitedList}\")\n",
    "    \n",
    "    if(exist in visitedList): # itme exist check\n",
    "        return True # itme exist\n",
    "    else:\n",
    "        return False # Not exist"
   ]
  },
  {
   "cell_type": "code",
   "execution_count": 21,
   "metadata": {},
   "outputs": [
    {
     "name": "stdout",
     "output_type": "stream",
     "text": [
      "## 무방향 그래프 탐색 ##\n",
      "\n",
      "###########################\n",
      "current_pos : 3\n",
      " stack : [0, 2, 3]\n",
      "\n",
      "###########################\n",
      "current_pos : 3\n",
      " stack : [0, 2]\n",
      "\n",
      "###########################\n",
      "current_pos : 1\n",
      " stack : [0, 2, 1]\n",
      "\n",
      "###########################\n",
      "current_pos : 1\n",
      " stack : [0, 2]\n",
      "\n",
      "###########################\n",
      "current_pos : 2\n",
      " stack : [0]\n",
      "\n",
      "###########################\n",
      "current_pos : 0\n",
      " stack : []\n",
      "\n",
      "find exist : 3\n",
      "\n",
      "방문순서: [0, 2, 3, 1]\n"
     ]
    }
   ],
   "source": [
    "print(\"## 무방향 그래프 탐색 ##\")\n",
    "\n",
    "Grahp = [\n",
    "    #A  B  C   D\n",
    "    [0, 0, 1 , 1], #A\n",
    "    [0, 0, 1 , 0], #B\n",
    "    [1, 1, 0 , 1], #C\n",
    "    [1, 0, 1 , 0]  #D\n",
    "]\n",
    "\n",
    "existGraph(Grahp=Grahp, exist=3)"
   ]
  },
  {
   "cell_type": "code",
   "execution_count": null,
   "metadata": {},
   "outputs": [],
   "source": []
  },
  {
   "cell_type": "markdown",
   "metadata": {},
   "source": [
    "## 최소신장트리"
   ]
  },
  {
   "cell_type": "code",
   "execution_count": 72,
   "metadata": {},
   "outputs": [],
   "source": [
    "Names = {\n",
    "    10: [\"춘천\", \"서울\"],\n",
    "    11: [\"서울\", \"대전\"],\n",
    "    12: [\"속초\", \"대전\"],\n",
    "    15: [\"춘천\", \"속초\"],\n",
    "    20: [\"대전\", \"광주\"],\n",
    "    25: [\"광주\", \"부산\"],\n",
    "    30: [\"대전\", \"부산\"],\n",
    "    40: [\"서울\", \"속초\"],\n",
    "    50: [\"서울\", \"광주\"]\n",
    "    }"
   ]
  },
  {
   "cell_type": "code",
   "execution_count": 73,
   "metadata": {},
   "outputs": [
    {
     "data": {
      "text/plain": [
       "[(10, ['춘천', '서울']),\n",
       " (11, ['서울', '대전']),\n",
       " (12, ['속초', '대전']),\n",
       " (15, ['춘천', '속초']),\n",
       " (20, ['대전', '광주']),\n",
       " (25, ['광주', '부산']),\n",
       " (30, ['대전', '부산']),\n",
       " (40, ['서울', '속초']),\n",
       " (50, ['서울', '광주'])]"
      ]
     },
     "execution_count": 73,
     "metadata": {},
     "output_type": "execute_result"
    }
   ],
   "source": [
    "sorted(Names.items()) # Key 기준 오름차순 정렬"
   ]
  },
  {
   "cell_type": "code",
   "execution_count": 176,
   "metadata": {},
   "outputs": [
    {
     "name": "stdout",
     "output_type": "stream",
     "text": [
      "{50: ['서울', '광주'], 40: ['서울', '속초'], 30: ['대전', '부산'], 25: ['광주', '부산'], 20: ['대전', '광주'], 15: ['춘천', '속초'], 12: ['속초', '대전'], 11: ['서울', '대전'], 10: ['춘천', '서울']}\n"
     ]
    }
   ],
   "source": [
    "ReversNames = dict(sorted(Names.items(), reverse=True)) # Key 기준 내림차순 정렬\n",
    "print(ReversNames)"
   ]
  },
  {
   "cell_type": "code",
   "execution_count": 178,
   "metadata": {},
   "outputs": [
    {
     "data": {
      "text/plain": [
       "[50, 40, 30, 25, 20, 15, 12, 11, 10]"
      ]
     },
     "execution_count": 178,
     "metadata": {},
     "output_type": "execute_result"
    }
   ],
   "source": [
    "ReversKeys = sorted(Names, reverse=True)\n",
    "ReversKeys"
   ]
  },
  {
   "cell_type": "code",
   "execution_count": 179,
   "metadata": {},
   "outputs": [
    {
     "name": "stdout",
     "output_type": "stream",
     "text": [
      "{40: ['서울', '속초'], 30: ['대전', '부산'], 25: ['광주', '부산'], 20: ['대전', '광주'], 15: ['춘천', '속초'], 12: ['속초', '대전'], 11: ['서울', '대전'], 10: ['춘천', '서울']}\n"
     ]
    }
   ],
   "source": [
    "newNames = ReversNames\n",
    "del newNames[ReversKeys[0]]\n",
    "print(newNames)"
   ]
  },
  {
   "cell_type": "code",
   "execution_count": 77,
   "metadata": {},
   "outputs": [
    {
     "data": {
      "text/plain": [
       "{30: ['대전', '부산'],\n",
       " 25: ['광주', '부산'],\n",
       " 20: ['대전', '광주'],\n",
       " 15: ['춘천', '속초'],\n",
       " 12: ['속초', '대전'],\n",
       " 11: ['서울', '대전'],\n",
       " 10: ['춘천', '서울']}"
      ]
     },
     "execution_count": 77,
     "metadata": {},
     "output_type": "execute_result"
    }
   ],
   "source": [
    "del newNames[ReversKeys[1]]\n",
    "newNames"
   ]
  },
  {
   "cell_type": "code",
   "execution_count": 180,
   "metadata": {},
   "outputs": [
    {
     "name": "stdout",
     "output_type": "stream",
     "text": [
      "{40: ['서울', '속초'], 25: ['광주', '부산'], 20: ['대전', '광주'], 15: ['춘천', '속초'], 12: ['속초', '대전'], 11: ['서울', '대전'], 10: ['춘천', '서울']}\n"
     ]
    }
   ],
   "source": [
    "del newNames[ReversKeys[2]]\n",
    "print(newNames)"
   ]
  },
  {
   "cell_type": "code",
   "execution_count": 169,
   "metadata": {},
   "outputs": [],
   "source": [
    "# 간선 삭제 함수\n",
    "def ModifyGraph(Grahp:dict) -> dict :\n",
    "    \"\"\"ModifyGraph\n",
    "    ------\n",
    "    \n",
    "    param:\n",
    "        Grahp: dict\n",
    "\n",
    "    Returns:\n",
    "        Grahp: Modified Graph(dict)\n",
    "    \"\"\"\n",
    "    \n",
    "    keys = list(Grahp.keys())\n",
    "    index = 0\n",
    "    NewGraph = {}\n",
    "    \n",
    "    for key in keys:\n",
    "        \n",
    "        starts = Grahp.pop(key, None)\n",
    "        if(starts != None):\n",
    "            start = starts[0]\n",
    "            \n",
    "            c = 0\n",
    "            for Value in list(Grahp.values()):\n",
    "                if(start in Value):\n",
    "                    c+=1\n",
    "            \n",
    "            if(c<=1):\n",
    "                NewGraph[key] = starts\n",
    "    \n",
    "        index +=1\n",
    "        pass\n",
    "    \n",
    "    if(NewGraph != None):\n",
    "        for key, val in NewGraph.items():\n",
    "            Grahp[key] = val\n",
    "    \n",
    "    return Grahp"
   ]
  },
  {
   "cell_type": "code",
   "execution_count": 170,
   "metadata": {},
   "outputs": [
    {
     "data": {
      "text/plain": [
       "{25: ['광주', '부산'],\n",
       " 15: ['춘천', '속초'],\n",
       " 12: ['속초', '대전'],\n",
       " 11: ['서울', '대전'],\n",
       " 10: ['춘천', '서울']}"
      ]
     },
     "execution_count": 170,
     "metadata": {},
     "output_type": "execute_result"
    }
   ],
   "source": [
    "Grahp = ModifyGraph(dict(sorted(Names.items(), reverse=True)))\n",
    "Grahp"
   ]
  },
  {
   "cell_type": "code",
   "execution_count": null,
   "metadata": {},
   "outputs": [],
   "source": []
  }
 ],
 "metadata": {
  "kernelspec": {
   "display_name": "myconda",
   "language": "python",
   "name": "python3"
  },
  "language_info": {
   "codemirror_mode": {
    "name": "ipython",
    "version": 3
   },
   "file_extension": ".py",
   "mimetype": "text/x-python",
   "name": "python",
   "nbconvert_exporter": "python",
   "pygments_lexer": "ipython3",
   "version": "3.9.18"
  }
 },
 "nbformat": 4,
 "nbformat_minor": 2
}
